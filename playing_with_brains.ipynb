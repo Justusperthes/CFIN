version https://git-lfs.github.com/spec/v1
oid sha256:1c78e70e288ea0e49fb753125a32bd2df596b387281d324c7f8d864b3ea51e10
size 206926951
