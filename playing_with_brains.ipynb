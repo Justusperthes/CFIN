version https://git-lfs.github.com/spec/v1
oid sha256:4318199ce0d31e806bd3cd0ef78828b97a0d2a00ccafc59553ea93c58a74022c
size 221200949
